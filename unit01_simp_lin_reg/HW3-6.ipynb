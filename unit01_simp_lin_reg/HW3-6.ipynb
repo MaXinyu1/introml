{
 "cells": [
  {
   "cell_type": "code",
   "execution_count": 79,
   "metadata": {},
   "outputs": [
    {
     "name": "stdout",
     "output_type": "stream",
     "text": [
      "[[ 23]\n",
      " [104]]\n"
     ]
    }
   ],
   "source": [
    "import numpy as np\n",
    "from numpy import *;\n",
    "\n",
    "x = np.array([[1,2,3],[4,5,6]])\n",
    "beta = np.array([1,2,3])\n",
    "\n",
    "y = np.array([beta[0]*x[:,0]+beta[1]*x[:,1]+beta[2]*x[:,1]*x[:,2]])\n",
    "y = np.transpose(y)\n",
    "print(y)"
   ]
  },
  {
   "cell_type": "code",
   "execution_count": 94,
   "metadata": {},
   "outputs": [
    {
     "name": "stdout",
     "output_type": "stream",
     "text": [
      "[8.12011699e-01 1.09893833e-01 1.48725131e-02 2.01277577e-03\n",
      " 2.72399579e-04]\n"
     ]
    }
   ],
   "source": [
    "x = np.array([1,2,3,4,5])\n",
    "alpha = np.array([1,2,3])\n",
    "beta = np.array([2,2,2])\n",
    "\n",
    "n = len(x)\n",
    "m = len(alpha)\n",
    "\n",
    "yhat = np.zeros(n)\n",
    "for i in range(n):\n",
    "    for j in range(m):\n",
    "        yhat[i] += alpha[j]*np.exp(-beta[j]*x[i])\n",
    "        \n",
    "print(yhat)"
   ]
  },
  {
   "cell_type": "code",
   "execution_count": 122,
   "metadata": {},
   "outputs": [
    {
     "name": "stdout",
     "output_type": "stream",
     "text": [
      "[8.12011699e-01 1.09893833e-01 1.48725131e-02 2.01277577e-03\n",
      " 2.72399579e-04]\n"
     ]
    }
   ],
   "source": [
    "x = np.array([1,2,3,4,5])\n",
    "beta = np.array([2,2,2])\n",
    "alpha = np.array([1,2,3])\n",
    "\n",
    "l = len(beta)\n",
    "beta = np.array([beta]*x.shape[0])\n",
    "beta = np.transpose(beta)\n",
    "x = np.array([x]*l)\n",
    "y = alpha.dot(np.exp(-beta*x))\n",
    "\n",
    "print(y)"
   ]
  },
  {
   "cell_type": "code",
   "execution_count": 133,
   "metadata": {},
   "outputs": [
    {
     "name": "stdout",
     "output_type": "stream",
     "text": [
      "[[ 5  5  5  5]\n",
      " [ 5  5  5  5]\n",
      " [29 29 29 29]]\n"
     ]
    }
   ],
   "source": [
    "x = np.array([[1,2,3],[2,3,4],[5,6,7]])\n",
    "y = np.array([[1,1,1],[2,2,2],[3,3,3],[4,4,4]])\n",
    "\n",
    "n , d= x.shape\n",
    "m, d = y.shape\n",
    "y = y[0:n]\n",
    "mid = (x - y)**2\n",
    "mid = np.transpose(mid)\n",
    "one = np.array([1]*d)\n",
    "mid = one.dot(mid)\n",
    "dist = np.array([mid] * m)\n",
    "dist = np.transpose(dist)\n",
    "print(dist)\n",
    "#print(dist)"
   ]
  },
  {
   "cell_type": "code",
   "execution_count": 134,
   "metadata": {},
   "outputs": [
    {
     "name": "stdout",
     "output_type": "stream",
     "text": [
      "[[ 5.  5.  5.  5.]\n",
      " [ 5.  5.  5.  5.]\n",
      " [29. 29. 29. 29.]]\n"
     ]
    }
   ],
   "source": [
    "dist = np.zeros((n,m))\n",
    "for i in range(n):\n",
    "    for j in range(m):\n",
    "        for k in range(d):\n",
    "            dist[i,j] += (x[i,k]-y[i,k])**2\n",
    "print(dist)"
   ]
  },
  {
   "cell_type": "code",
   "execution_count": null,
   "metadata": {},
   "outputs": [],
   "source": []
  }
 ],
 "metadata": {
  "kernelspec": {
   "display_name": "Python 3",
   "language": "python",
   "name": "python3"
  },
  "language_info": {
   "codemirror_mode": {
    "name": "ipython",
    "version": 3
   },
   "file_extension": ".py",
   "mimetype": "text/x-python",
   "name": "python",
   "nbconvert_exporter": "python",
   "pygments_lexer": "ipython3",
   "version": "3.7.1"
  }
 },
 "nbformat": 4,
 "nbformat_minor": 2
}
