{
 "cells": [
  {
   "cell_type": "code",
   "execution_count": 4,
   "metadata": {},
   "outputs": [],
   "source": [
    "import numpy as np\n",
    "x1 = [0,0,1,1]\n",
    "x2 = [0,1,0,1]\n",
    "y = [1,4,3,7]"
   ]
  },
  {
   "cell_type": "markdown",
   "metadata": {},
   "source": [
    "meanx1 = np.mean(x1)\n",
    "meanx2 = np.mean(x2)\n",
    "meany = np.mean(y)\n",
    "print(meanx1,meanx2,meany)"
   ]
  },
  {
   "cell_type": "code",
   "execution_count": 7,
   "metadata": {},
   "outputs": [
    {
     "name": "stdout",
     "output_type": "stream",
     "text": [
      "0.5 0.5 3.75\n"
     ]
    }
   ],
   "source": [
    "meanx1 = np.mean(x1) \n",
    "meanx2 = np.mean(x2) \n",
    "meany = np.mean(y) \n",
    "print(meanx1,meanx2,meany)"
   ]
  },
  {
   "cell_type": "code",
   "execution_count": 8,
   "metadata": {},
   "outputs": [
    {
     "name": "stdout",
     "output_type": "stream",
     "text": [
      "0.625 0.875 0.25 0.25\n"
     ]
    }
   ],
   "source": [
    "syx1 = np.mean((y-meany)*(x1-meanx1))\n",
    "syx2 = np.mean((y-meany)*(x2-meanx2))\n",
    "sx1x1 = np.mean((x1-meanx1)**2)\n",
    "sx2x2 = np.mean((x2-meanx2)**2)\n",
    "print(syx1,syx2,sx1x1,sx2x2)"
   ]
  },
  {
   "cell_type": "code",
   "execution_count": 10,
   "metadata": {},
   "outputs": [
    {
     "name": "stdout",
     "output_type": "stream",
     "text": [
      "2.5 3.5\n"
     ]
    }
   ],
   "source": [
    "beta1 = syx1/sx1x1 \n",
    "beta2 =  syx2/sx2x2 \n",
    "print(beta1,beta2)"
   ]
  },
  {
   "cell_type": "code",
   "execution_count": 11,
   "metadata": {},
   "outputs": [
    {
     "name": "stdout",
     "output_type": "stream",
     "text": [
      "0.75\n"
     ]
    }
   ],
   "source": [
    "beta0 = meany - beta1*meanx1 - beta2*meanx2\n",
    "print(beta0)"
   ]
  },
  {
   "cell_type": "code",
   "execution_count": null,
   "metadata": {},
   "outputs": [],
   "source": []
  }
 ],
 "metadata": {
  "kernelspec": {
   "display_name": "Python 3",
   "language": "python",
   "name": "python3"
  },
  "language_info": {
   "codemirror_mode": {
    "name": "ipython",
    "version": 3
   },
   "file_extension": ".py",
   "mimetype": "text/x-python",
   "name": "python",
   "nbconvert_exporter": "python",
   "pygments_lexer": "ipython3",
   "version": "3.7.1"
  }
 },
 "nbformat": 4,
 "nbformat_minor": 2
}
